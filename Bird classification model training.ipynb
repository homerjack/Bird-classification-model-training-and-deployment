{
 "cells": [
  {
   "cell_type": "markdown",
   "metadata": {},
   "source": [
    "# Preface\n",
    "For the purpose of this assignment, the Keras library will be used for image pre-processing and model creation. Mainly, the Keras ImageDataGenerator will be used for image augmentation as well as train, validation split. \n",
    "\n",
    "A stratified split approach will be used to split the images into train, validation and test sets. 10% of images from each label will first be split for the test set by calling a function, while the remaining images will be split between the training and validation sets in the ratio of 80% and 20% respectively via Keras ImageDataGenerator. As such, in order for this stratified split to occur, each label needs to have at least 10 images (for the function to do the test set split).\n",
    "\n",
    "A pre-trained model, NASNetMobile, will be used to take advantage of the pre-trained weights of bird images in ImageNet. NASNetMobile was selected for its relatively high accuracy while being lightweight, hence making it ideal for use on an Adroid device.\n",
    "\n",
    "Note that f-strings is used in this assignment which is introduced in python v3.6."
   ]
  },
  {
   "cell_type": "markdown",
   "metadata": {},
   "source": [
    "# Question 1: Developing a model for bird classification\n",
    "The following are performed:\n",
    "- Handling of the dataset\n",
    "- Creation and training of model\n",
    "- Validation of accuracy"
   ]
  },
  {
   "cell_type": "markdown",
   "metadata": {},
   "source": [
    "### Handling of the dataset: Subdirectory creation\n",
    "To implement the Keras pre-processing library, the bird images will have to be classified in sub-folders according to their labels.\n",
    "\n",
    "Please note that a new train labels file is used which had corrections made to certain misclassified images."
   ]
  },
  {
   "cell_type": "code",
   "execution_count": 1,
   "metadata": {},
   "outputs": [
    {
     "data": {
      "text/plain": [
       "Zitting_Cisticola                    46\n",
       "Stork-billed_Kingfisher              44\n",
       "White-breasted_Waterhen              42\n",
       "White-winged_Tern                    35\n",
       "Red-Crowned_Crane                    34\n",
       "                                     ..\n",
       "Blyth's_Asian_Paradise_Flycatcher     2\n",
       "Blue-tailed_Bee-eater                 2\n",
       "Yellow_Oriole                         2\n",
       "Painted_Stork                         2\n",
       "Straw-headed_Bulbul                   1\n",
       "Name: label, Length: 77, dtype: int64"
      ]
     },
     "execution_count": 1,
     "metadata": {},
     "output_type": "execute_result"
    }
   ],
   "source": [
    "import pandas as pd\n",
    "import numpy as np\n",
    "import os\n",
    "import pickle\n",
    "import matplotlib.pyplot as plt\n",
    "%matplotlib inline\n",
    "\n",
    "#Read the labels csv file. Ensure that the csv file is in the same folder as the notebook\n",
    "df = pd.read_csv(\"new_trainLabels_bird.csv\")\n",
    "\n",
    "#Display labels with their image count\n",
    "df.label.value_counts()"
   ]
  },
  {
   "cell_type": "markdown",
   "metadata": {},
   "source": [
    "##### Note:\n",
    "- Number of labels = 77\n",
    "- Different labels have different number of images. Number of images range from 1 to 46\n",
    "- All images are colored and in jpg format\n",
    "\n",
    "As discussed in the Preface above, at least 10 images are needed per label for the stratified split. As no additional images will be added to the dataset, only labels with at least 10 images are selected for this assignment.\n",
    "\n",
    "Due to the very small dataset for each label, image augmentation is used such that the model sees a \"different\" image in each epoch to increase the dataset variation to prevent overfitting."
   ]
  },
  {
   "cell_type": "code",
   "execution_count": 2,
   "metadata": {},
   "outputs": [
    {
     "data": {
      "text/plain": [
       "Zitting_Cisticola               46\n",
       "Stork-billed_Kingfisher         44\n",
       "White-breasted_Waterhen         42\n",
       "White-winged_Tern               35\n",
       "Red-Crowned_Crane               34\n",
       "White-bellied_Sea_Eagle         29\n",
       "Jerdons_Baza                    24\n",
       "Lesser_Whistling_Duck           24\n",
       "Olive-backed_Sunbird            23\n",
       "Common_Kingfisher               22\n",
       "Grey-headed_Fish_Eagle          21\n",
       "Black-winged_Kite               20\n",
       "Blue-throated_Bee-eater         20\n",
       "Grey-rumped_Treeswift           20\n",
       "Little_Tern                     19\n",
       "Banded_Woodpecker               19\n",
       "Slaty-breasted_Rail             18\n",
       "Sunda_Scoops_Owl                17\n",
       "Yellow-vented_Bulbul            17\n",
       "Black-crowned_Night_Heron       16\n",
       "Sunda_Pygmy_Woodpecker          16\n",
       "Buffy_Fish_Owl                  15\n",
       "Green_Imperial_Pigeon           14\n",
       "Oriental_Pied_Hornbill          14\n",
       "Brahmini_Kite                   13\n",
       "Greater_Racket-tailed_Drongo    13\n",
       "Golden-backed_Weaver            13\n",
       "Zanzibar_Red_Bishop             13\n",
       "Blue-crowned_Hanging_Parrot     13\n",
       "Striated_Heron                  11\n",
       "Paddyfield_Pipit                11\n",
       "Pied_Triller                    11\n",
       "White-tailed_Sea_Eagle          11\n",
       "Blue-winged_Pita                10\n",
       "Whooper_Swan                    10\n",
       "Yellow_Bittern                  10\n",
       "Name: label, dtype: int64"
      ]
     },
     "execution_count": 2,
     "metadata": {},
     "output_type": "execute_result"
    }
   ],
   "source": [
    "#Compile images of species >= 10 images\n",
    "df_new = df[df[\"label\"].map(df.label.value_counts() >= 10)]\n",
    "df_new.label.value_counts()"
   ]
  },
  {
   "cell_type": "code",
   "execution_count": 3,
   "metadata": {},
   "outputs": [],
   "source": [
    "#Function to create sub-folders for each label within the same directory\n",
    "#Function heavily modified from https://www.kaggle.com/ericbenhamou/sub-directories-for-keras-flow-from-directory\n",
    "def create_folders(parent_dir, train_folder_name, test_folder_name, df, categories):\n",
    "    \n",
    "    #Create train and test folders in the same directory\n",
    "    folders = [train_folder_name, test_folder_name]\n",
    "        \n",
    "    for folder in folders:\n",
    "        if not os.path.isdir(folder):\n",
    "            os.mkdir(folder)\n",
    "            print(f\"Folder {folder}, created!\")\n",
    "        else:\n",
    "            print(f\"Folder {folder}, exists!\")\n",
    "          \n",
    "    #Create labels in the train and test folders\n",
    "    for folder in folders:\n",
    "        for i in categories:\n",
    "            subfolder = str(i)\n",
    "            path = os.path.join(f\"{parent_dir}/\" + folder, subfolder)\n",
    "            if not os.path.isdir(path):\n",
    "                os.mkdir(path)\n",
    "            else:\n",
    "                print(f\"Folder {i}, exists in {folder}!\")\n",
    "    \n",
    "    print(f\"Folders and subfolders created for {train_folder_name} and {test_folder_name}!\")"
   ]
  },
  {
   "cell_type": "code",
   "execution_count": 4,
   "metadata": {},
   "outputs": [
    {
     "name": "stdout",
     "output_type": "stream",
     "text": [
      "Folder train, created!\n",
      "Folder test, created!\n",
      "Folders and subfolders created for train and test!\n"
     ]
    }
   ],
   "source": [
    "#Create the subfolders\n",
    "parent_dir = r\"C:\\Users\\Yong Jin\\Desktop\\TIPPAAI_AAISD_CV_Chong Yong Jin\"\n",
    "train_folder_name = \"train\"\n",
    "test_folder_name = \"test\"\n",
    "categories = np.unique(df_new.label.values)\n",
    "\n",
    "create_folders(parent_dir, train_folder_name, test_folder_name, df_new, categories) #Input df here"
   ]
  },
  {
   "cell_type": "code",
   "execution_count": 5,
   "metadata": {},
   "outputs": [],
   "source": [
    "#Function to move images to train subfolders\n",
    "#Function modified from https://www.kaggle.com/ericbenhamou/sub-directories-for-keras-flow-from-directory\n",
    "def move_files(path, train_folder_name, df, map_dict):\n",
    "    failed = 0\n",
    "    \n",
    "    for root, dirs, files in os.walk(path, topdown = True):\n",
    "        for name in files:\n",
    "            oldfile = os.path.join(root, name)\n",
    "            newfile = os.path.join(f\"{train_folder_name}/\"+ map_dict[name[:-4]], name) #Slice out the \".jpg\" from filename\n",
    "                                   \n",
    "            if not os.path.isdir(newfile):\n",
    "                try:\n",
    "                    os.rename(oldfile, newfile)\n",
    "                    \n",
    "                except:\n",
    "                    failed += 1\n",
    "    \n",
    "    print(\"Completed transfer of images to train subfolders.\")\n",
    "    print(f\"Failed to move {failed} images!\")"
   ]
  },
  {
   "cell_type": "code",
   "execution_count": 6,
   "metadata": {},
   "outputs": [
    {
     "name": "stdout",
     "output_type": "stream",
     "text": [
      "Completed transfer of images to train subfolders.\n",
      "Failed to move 178 images!\n",
      "178 images are not in the selected criteria.\n"
     ]
    }
   ],
   "source": [
    "#Call the functions to move images to train subfolders\n",
    "#Note that images not in the selected labels will not be moved\n",
    "'''\n",
    "    Please note that the images will be moved from the same folder directory as the notebook.\n",
    "    Hence, please ensure that a copy of the \"bird\" folder containing the images is present in the folder before calling the function.\n",
    "'''\n",
    "\n",
    "path = \"birds\" #Directory\n",
    "map_dict = dict(df.values.tolist()) #Create dictionary of filename: labels for mapping\n",
    "\n",
    "move_files(path, train_folder_name, df_new, map_dict) #Input df here\n",
    "\n",
    "#Check number of images not in the selected labels to verify\n",
    "df_nan = df[df[\"label\"].map(df.label.value_counts() < 10)]\n",
    "print(f'{sum(df_nan.label.value_counts())} images are not in the selected criteria.')"
   ]
  },
  {
   "cell_type": "code",
   "execution_count": 7,
   "metadata": {},
   "outputs": [],
   "source": [
    "#Function to move images to test subfolders\n",
    "#Function modified from https://www.kaggle.com/ericbenhamou/sub-directories-for-keras-flow-from-directory\n",
    "def move_test_images(train_folder_name, test_folder_name, df, test_ratio):\n",
    "       \n",
    "    for root, dirs, files in os.walk(train_folder_name, topdown = True):\n",
    "        failed = 0\n",
    "        train_num = len(files)\n",
    "        \n",
    "        if train_num == 0:\n",
    "            continue\n",
    "        \n",
    "        test_num = 0\n",
    "                 \n",
    "        for name in files:\n",
    "            oldfile = os.path.join(root, name)\n",
    "            newfile = os.path.join(f\"{test_folder_name}/\" +\n",
    "                                   root[len(train_folder_name) + 1:], \n",
    "                                   name)\n",
    "            \n",
    "            test_num += 1\n",
    "                    \n",
    "            if test_ratio < test_num / train_num: \n",
    "                continue #If test ratio met, move to the next subfolder\n",
    "            \n",
    "            if not os.path.isdir(newfile):\n",
    "                try:\n",
    "                    os.rename(oldfile, newfile)\n",
    "                    \n",
    "                except:\n",
    "                    failed += 1\n",
    "        \n",
    "        if failed > 0:\n",
    "            print(f\"Failed to move {failed} files in {root}\")\n",
    "    \n",
    "    print(\"Completed transfer of images to test subfolders.\")"
   ]
  },
  {
   "cell_type": "code",
   "execution_count": 8,
   "metadata": {},
   "outputs": [
    {
     "name": "stdout",
     "output_type": "stream",
     "text": [
      "Completed transfer of images to test subfolders.\n"
     ]
    }
   ],
   "source": [
    "#Call the functions to split images to test subfolders\n",
    "test_ratio = 0.1\n",
    "\n",
    "move_test_images(train_folder_name, test_folder_name, df, test_ratio)"
   ]
  },
  {
   "cell_type": "code",
   "execution_count": 9,
   "metadata": {},
   "outputs": [
    {
     "name": "stdout",
     "output_type": "stream",
     "text": [
      "Yellow_Bittern/\n",
      "    _JWO1459_cr.jpg\n",
      "    _JWO1463_cr.jpg\n",
      "    _JWO1477_cr_cr.jpg\n",
      "    _JWO1483_cr.jpg\n",
      "    _JWO1484_cr.jpg\n",
      "    _JWO1485_cr.jpg\n",
      "    _JWO1486_cr.jpg\n",
      "    _JWO1506_cr.jpg\n",
      "    _JWO1548_cr.jpg\n",
      "Yellow_Bittern/\n",
      "    _JWO1450_cr.jpg\n",
      "Brahmini_Kite/\n",
      "    _JWO0528_cr.jpg\n",
      "    _JWO8855_cr.jpg\n",
      "    _JWO8856_cr.jpg\n",
      "    _JWO8859_cr.jpg\n",
      "    _JWO9897_cr.jpg\n",
      "    _JWO9898_cr.jpg\n",
      "    _JWO9899_cr.jpg\n",
      "    _JWO9904_cr.jpg\n",
      "    _JWO9919_cr.jpg\n",
      "    _JWO9925_cr.jpg\n",
      "    _JWO9926_cr.jpg\n",
      "    _JWO9930_cr.jpg\n",
      "Brahmini_Kite/\n",
      "    _JWO0526_cr.jpg\n"
     ]
    }
   ],
   "source": [
    "#Check that image mapping is correct\n",
    "#Function code extracted from https://stackoverflow.com/questions/9727673/list-directory-tree-structure-in-python\n",
    "def list_files(startpath):\n",
    "    for root, dirs, files in os.walk(startpath):\n",
    "        level = root.replace(startpath, '').count(os.sep)\n",
    "        indent = ' ' * 4 * (level)\n",
    "        print(f\"{indent}{os.path.basename(root)}/\")\n",
    "        subindent = ' ' * 4 * (level + 1)\n",
    "        for f in files:\n",
    "            print(f\"{subindent}{f}\")\n",
    "\n",
    "#Check that the list of images for Yellow_Bittern and Brahmini_Kite is correct\n",
    "checklist = [\"Yellow_Bittern\", \"Brahmini_Kite\"]\n",
    "\n",
    "list_files(f\"train/{checklist[0]}\")\n",
    "list_files(f\"test/{checklist[0]}\")\n",
    "list_files(f\"train/{checklist[1]}\")\n",
    "list_files(f\"test/{checklist[1]}\")"
   ]
  },
  {
   "cell_type": "code",
   "execution_count": 10,
   "metadata": {},
   "outputs": [
    {
     "data": {
      "text/html": [
       "<div>\n",
       "<style scoped>\n",
       "    .dataframe tbody tr th:only-of-type {\n",
       "        vertical-align: middle;\n",
       "    }\n",
       "\n",
       "    .dataframe tbody tr th {\n",
       "        vertical-align: top;\n",
       "    }\n",
       "\n",
       "    .dataframe thead th {\n",
       "        text-align: right;\n",
       "    }\n",
       "</style>\n",
       "<table border=\"1\" class=\"dataframe\">\n",
       "  <thead>\n",
       "    <tr style=\"text-align: right;\">\n",
       "      <th></th>\n",
       "      <th>filename</th>\n",
       "      <th>label</th>\n",
       "    </tr>\n",
       "  </thead>\n",
       "  <tbody>\n",
       "    <tr>\n",
       "      <th>55</th>\n",
       "      <td>_JWO0526_cr</td>\n",
       "      <td>Brahmini_Kite</td>\n",
       "    </tr>\n",
       "    <tr>\n",
       "      <th>56</th>\n",
       "      <td>_JWO0528_cr</td>\n",
       "      <td>Brahmini_Kite</td>\n",
       "    </tr>\n",
       "    <tr>\n",
       "      <th>94</th>\n",
       "      <td>_JWO1450_cr</td>\n",
       "      <td>Yellow_Bittern</td>\n",
       "    </tr>\n",
       "    <tr>\n",
       "      <th>95</th>\n",
       "      <td>_JWO1459_cr</td>\n",
       "      <td>Yellow_Bittern</td>\n",
       "    </tr>\n",
       "    <tr>\n",
       "      <th>96</th>\n",
       "      <td>_JWO1463_cr</td>\n",
       "      <td>Yellow_Bittern</td>\n",
       "    </tr>\n",
       "    <tr>\n",
       "      <th>97</th>\n",
       "      <td>_JWO1477_cr_cr</td>\n",
       "      <td>Yellow_Bittern</td>\n",
       "    </tr>\n",
       "    <tr>\n",
       "      <th>99</th>\n",
       "      <td>_JWO1483_cr</td>\n",
       "      <td>Yellow_Bittern</td>\n",
       "    </tr>\n",
       "    <tr>\n",
       "      <th>100</th>\n",
       "      <td>_JWO1484_cr</td>\n",
       "      <td>Yellow_Bittern</td>\n",
       "    </tr>\n",
       "    <tr>\n",
       "      <th>101</th>\n",
       "      <td>_JWO1485_cr</td>\n",
       "      <td>Yellow_Bittern</td>\n",
       "    </tr>\n",
       "    <tr>\n",
       "      <th>102</th>\n",
       "      <td>_JWO1486_cr</td>\n",
       "      <td>Yellow_Bittern</td>\n",
       "    </tr>\n",
       "    <tr>\n",
       "      <th>103</th>\n",
       "      <td>_JWO1506_cr</td>\n",
       "      <td>Yellow_Bittern</td>\n",
       "    </tr>\n",
       "    <tr>\n",
       "      <th>105</th>\n",
       "      <td>_JWO1548_cr</td>\n",
       "      <td>Yellow_Bittern</td>\n",
       "    </tr>\n",
       "    <tr>\n",
       "      <th>755</th>\n",
       "      <td>_JWO8855_cr</td>\n",
       "      <td>Brahmini_Kite</td>\n",
       "    </tr>\n",
       "    <tr>\n",
       "      <th>756</th>\n",
       "      <td>_JWO8856_cr</td>\n",
       "      <td>Brahmini_Kite</td>\n",
       "    </tr>\n",
       "    <tr>\n",
       "      <th>757</th>\n",
       "      <td>_JWO8859_cr</td>\n",
       "      <td>Brahmini_Kite</td>\n",
       "    </tr>\n",
       "    <tr>\n",
       "      <th>863</th>\n",
       "      <td>_JWO9897_cr</td>\n",
       "      <td>Brahmini_Kite</td>\n",
       "    </tr>\n",
       "    <tr>\n",
       "      <th>864</th>\n",
       "      <td>_JWO9898_cr</td>\n",
       "      <td>Brahmini_Kite</td>\n",
       "    </tr>\n",
       "    <tr>\n",
       "      <th>865</th>\n",
       "      <td>_JWO9899_cr</td>\n",
       "      <td>Brahmini_Kite</td>\n",
       "    </tr>\n",
       "    <tr>\n",
       "      <th>866</th>\n",
       "      <td>_JWO9904_cr</td>\n",
       "      <td>Brahmini_Kite</td>\n",
       "    </tr>\n",
       "    <tr>\n",
       "      <th>867</th>\n",
       "      <td>_JWO9919_cr</td>\n",
       "      <td>Brahmini_Kite</td>\n",
       "    </tr>\n",
       "    <tr>\n",
       "      <th>868</th>\n",
       "      <td>_JWO9925_cr</td>\n",
       "      <td>Brahmini_Kite</td>\n",
       "    </tr>\n",
       "    <tr>\n",
       "      <th>869</th>\n",
       "      <td>_JWO9926_cr</td>\n",
       "      <td>Brahmini_Kite</td>\n",
       "    </tr>\n",
       "    <tr>\n",
       "      <th>870</th>\n",
       "      <td>_JWO9930_cr</td>\n",
       "      <td>Brahmini_Kite</td>\n",
       "    </tr>\n",
       "  </tbody>\n",
       "</table>\n",
       "</div>"
      ],
      "text/plain": [
       "           filename           label\n",
       "55      _JWO0526_cr   Brahmini_Kite\n",
       "56      _JWO0528_cr   Brahmini_Kite\n",
       "94      _JWO1450_cr  Yellow_Bittern\n",
       "95      _JWO1459_cr  Yellow_Bittern\n",
       "96      _JWO1463_cr  Yellow_Bittern\n",
       "97   _JWO1477_cr_cr  Yellow_Bittern\n",
       "99      _JWO1483_cr  Yellow_Bittern\n",
       "100     _JWO1484_cr  Yellow_Bittern\n",
       "101     _JWO1485_cr  Yellow_Bittern\n",
       "102     _JWO1486_cr  Yellow_Bittern\n",
       "103     _JWO1506_cr  Yellow_Bittern\n",
       "105     _JWO1548_cr  Yellow_Bittern\n",
       "755     _JWO8855_cr   Brahmini_Kite\n",
       "756     _JWO8856_cr   Brahmini_Kite\n",
       "757     _JWO8859_cr   Brahmini_Kite\n",
       "863     _JWO9897_cr   Brahmini_Kite\n",
       "864     _JWO9898_cr   Brahmini_Kite\n",
       "865     _JWO9899_cr   Brahmini_Kite\n",
       "866     _JWO9904_cr   Brahmini_Kite\n",
       "867     _JWO9919_cr   Brahmini_Kite\n",
       "868     _JWO9925_cr   Brahmini_Kite\n",
       "869     _JWO9926_cr   Brahmini_Kite\n",
       "870     _JWO9930_cr   Brahmini_Kite"
      ]
     },
     "execution_count": 10,
     "metadata": {},
     "output_type": "execute_result"
    }
   ],
   "source": [
    "#Check the filename against the DataFrame mapping\n",
    "df_new.query(f\"label in {checklist}\")"
   ]
  },
  {
   "cell_type": "markdown",
   "metadata": {},
   "source": [
    "##### Note\n",
    "The image names of the 2 labels in the subfolders matches the label mapping in the DataFrame. Image transfer was sucessful."
   ]
  },
  {
   "cell_type": "markdown",
   "metadata": {},
   "source": [
    "### Handling of the dataset: Preprocessing and image augmentation\n",
    "* As the model used is NASNetMobile, the respective preprocessing method will be used.\n",
    "* Keras library is also utilised for the image augmentation during training."
   ]
  },
  {
   "cell_type": "code",
   "execution_count": 11,
   "metadata": {},
   "outputs": [
    {
     "name": "stdout",
     "output_type": "stream",
     "text": [
      "Found 534 images belonging to 36 classes.\n"
     ]
    }
   ],
   "source": [
    "from tensorflow.keras.preprocessing.image import ImageDataGenerator\n",
    "from tensorflow.keras.applications.nasnet import NASNetMobile, preprocess_input\n",
    "\n",
    "#Image augmentation parameters for training set\n",
    "train_params = ImageDataGenerator(\n",
    "                   rotation_range = 20, \n",
    "                   brightness_range = (0.5, 1.5), \n",
    "                   shear_range = 30, \n",
    "                   zoom_range = (0.8, 1.2), \n",
    "                   fill_mode = \"nearest\", \n",
    "                   horizontal_flip = True,\n",
    "                   validation_split = 0.2,\n",
    "                   preprocessing_function = preprocess_input) #Using NASNetMobile's preprocessing method\n",
    "\n",
    "#Creating the image augmentation\n",
    "#Change directory as necessary\n",
    "direc = r\"C:\\Users\\Yong Jin\\Desktop\\TIPPAAI_AAISD_CV_Chong Yong Jin\\train\" \n",
    "\n",
    "labels = np.unique(df_new.label.values).tolist()\n",
    "\n",
    "#Training set\n",
    "train_gen = train_params.flow_from_directory(\n",
    "                    directory = direc,\n",
    "                    target_size = (224, 224), #Using the default image size of NASNetMobile for optimal results\n",
    "                    color_mode = \"rgb\",\n",
    "                    classes = labels,\n",
    "                    class_mode = \"categorical\",\n",
    "                    batch_size = 32,\n",
    "                    shuffle = True,\n",
    "                    seed = 2020,\n",
    "                    subset = \"training\")"
   ]
  },
  {
   "cell_type": "code",
   "execution_count": 12,
   "metadata": {},
   "outputs": [
    {
     "name": "stdout",
     "output_type": "stream",
     "text": [
      "Found 116 images belonging to 36 classes.\n"
     ]
    }
   ],
   "source": [
    "#Image augmentation parameters for validation set (no augmentation of data)\n",
    "valid_params = ImageDataGenerator(\n",
    "                   validation_split = 0.2,\n",
    "                   preprocessing_function = preprocess_input) #Using NASNetMobile's preprocessing method\n",
    "\n",
    "#Validation set\n",
    "valid_gen = valid_params.flow_from_directory(\n",
    "                    directory = direc,\n",
    "                    target_size = (224, 224), #Using the default image size of NASNetMobile for optimal results\n",
    "                    color_mode = \"rgb\",\n",
    "                    classes = labels,\n",
    "                    class_mode = \"categorical\",\n",
    "                    batch_size = 32,\n",
    "                    shuffle = True,\n",
    "                    seed = 2020,\n",
    "                    subset = \"validation\")"
   ]
  },
  {
   "cell_type": "code",
   "execution_count": 13,
   "metadata": {},
   "outputs": [],
   "source": [
    "#Verify that all labels have at least 1 validation image\n",
    "for i in range(len(labels)):\n",
    "    if valid_gen.classes.tolist().count(i) < 1:\n",
    "        print(f\"Missing validation image from {list(valid_gen.class_indices.keys())[i]}\")"
   ]
  },
  {
   "cell_type": "code",
   "execution_count": 14,
   "metadata": {},
   "outputs": [
    {
     "name": "stdout",
     "output_type": "stream",
     "text": [
      "Found 58 images belonging to 36 classes.\n"
     ]
    }
   ],
   "source": [
    "#Image augmentation parameters for test set (Implementing Test Time Augmentation)\n",
    "test_params = train_params = ImageDataGenerator(\n",
    "                   preprocessing_function = preprocess_input) #Using NASNetMobile's preprocessing method\n",
    "\n",
    "#Change directory as necessary\n",
    "test_direc = r\"C:\\Users\\Yong Jin\\Desktop\\TIPPAAI_AAISD_CV_Chong Yong Jin\\test\"\n",
    "\n",
    "#Validation set\n",
    "test_gen = test_params.flow_from_directory(\n",
    "                    directory = test_direc,\n",
    "                    target_size = (224, 224), #Using the default image size of NASNetMobile for optimal results\n",
    "                    color_mode = \"rgb\",\n",
    "                    classes = labels,\n",
    "                    class_mode = \"categorical\",\n",
    "                    batch_size = 32,\n",
    "                    shuffle = False,\n",
    "                    seed = 2020)"
   ]
  },
  {
   "cell_type": "code",
   "execution_count": 15,
   "metadata": {},
   "outputs": [],
   "source": [
    "#Verify that all labels have at least 1 test image\n",
    "for i in range(len(labels)):\n",
    "    if test_gen.classes.tolist().count(i) < 1:\n",
    "        print(f\"Missing validation image from {list(test_gen.class_indices.keys())[i]}\")"
   ]
  },
  {
   "cell_type": "markdown",
   "metadata": {},
   "source": [
    "##### Note:\n",
    "* All labels have at least 1 image for validation and testing."
   ]
  },
  {
   "cell_type": "raw",
   "metadata": {},
   "source": []
  },
  {
   "cell_type": "markdown",
   "metadata": {},
   "source": [
    "### Creation and training of model\n",
    "- Using NASNetMobile as base model\n",
    "- Include a pooling layer and fully connected layer"
   ]
  },
  {
   "cell_type": "code",
   "execution_count": 16,
   "metadata": {},
   "outputs": [],
   "source": [
    "#Setting up the NASNetMobile base model\n",
    "inputs = (224, 224, 3)\n",
    "base_model = NASNetMobile(include_top = False, weights = \"imagenet\", input_shape = inputs, pooling = \"average\")\n",
    "\n",
    "for layer in base_model.layers[:]:\n",
    "    layer.trainable = False"
   ]
  },
  {
   "cell_type": "code",
   "execution_count": 17,
   "metadata": {},
   "outputs": [],
   "source": [
    "from tensorflow.keras.models import Sequential\n",
    "from tensorflow.keras.layers import Dense, GlobalAveragePooling2D\n",
    "from tensorflow.keras.optimizers import Adam\n",
    "\n",
    "model = Sequential()\n",
    "model.add(base_model)\n",
    "model.add(GlobalAveragePooling2D())\n",
    "model.add(Dense(36, activation = \"softmax\"))\n",
    "\n",
    "model.compile(optimizer = Adam(), \n",
    "              loss = \"categorical_crossentropy\",\n",
    "              metrics = [\"accuracy\"])"
   ]
  },
  {
   "cell_type": "code",
   "execution_count": 18,
   "metadata": {},
   "outputs": [
    {
     "name": "stdout",
     "output_type": "stream",
     "text": [
      "Epoch 1/3\n",
      "17/17 [==============================] - 33s 2s/step - loss: 2.1179 - accuracy: 0.5243 - val_loss: 0.8447 - val_accuracy: 0.7328 - lr: 0.0100\n",
      "Epoch 2/3\n",
      "17/17 [==============================] - 32s 2s/step - loss: 0.4620 - accuracy: 0.8371 - val_loss: 0.5606 - val_accuracy: 0.8276 - lr: 0.0100\n",
      "Epoch 3/3\n",
      "17/17 [==============================] - 32s 2s/step - loss: 0.3564 - accuracy: 0.8839 - val_loss: 0.4057 - val_accuracy: 0.8621 - lr: 0.0100\n"
     ]
    }
   ],
   "source": [
    "from tensorflow.keras.callbacks import EarlyStopping, ModelCheckpoint, LearningRateScheduler\n",
    "\n",
    "#Early stopping monitor if validation loss doesn't improve after 3 epochs to prevent overfitting \n",
    "#Save out the best model with the highest valuation accuracy\n",
    "def scheduler(epoch):\n",
    "    if epoch < 10:\n",
    "        return 0.01\n",
    "    if epoch < 20:\n",
    "        return 0.001\n",
    "    else:\n",
    "        return 0.0001\n",
    "\n",
    "callback = [EarlyStopping(monitor = \"val_loss\", patience = 3, mode = \"min\"),\n",
    "            ModelCheckpoint(filepath = \"best_model.hdf5\", monitor = \"val_loss\", save_best_only = True),\n",
    "            LearningRateScheduler(scheduler)]\n",
    "\n",
    "#Fit the model\n",
    "bird_model = model.fit(train_gen, \n",
    "                      epochs = 3, #Note that epoch was set to 3 to reduce computation time since the best model has already been saved out\n",
    "                      shuffle = True,\n",
    "                      validation_data = valid_gen,\n",
    "                      callbacks = callback,\n",
    "                      verbose = 1)"
   ]
  },
  {
   "cell_type": "code",
   "execution_count": 19,
   "metadata": {},
   "outputs": [],
   "source": [
    "#Save the history of the best model\n",
    "data = bird_model.history\n",
    "\n",
    "with open(\"model_history.pickle\", 'wb+') as out_file:\n",
    "    pickle.dump(data, out_file)"
   ]
  },
  {
   "cell_type": "markdown",
   "metadata": {},
   "source": [
    "##### Note\n",
    "The initial model resulted in a high validation accuracy of 0.9397 with a validation loss of 0.3158 at epoch 30. Hence, only minimal tuning was implemented. Moreover, ImageNet results has shown that NASNetMobile will not have a significantly high accuracy as compared to other models such as NASNetLarge, hence further fine-tuning would not have a meaningful or significant impact to the performance.\n",
    "\n",
    "The following parameters were tuned:\n",
    "* A stepped learning rate was used for the optimizer Adam. This allows the model to learn more optimal weights via a smaller step size as the loss gradient decreases.\n",
    "\n",
    "The resulting model was saved out by the ModelCheckpoint callback and renamed as \"bird_model_best.hdf5\" to prevent over-writing. The history of the model was saved and renamed as \"bird_model_history.pickle\" to prevent over-writing."
   ]
  },
  {
   "cell_type": "code",
   "execution_count": 20,
   "metadata": {},
   "outputs": [],
   "source": [
    "#Loading the saved best model\n",
    "from tensorflow.keras.models import load_model\n",
    "\n",
    "saved_model = load_model(\"bird_model_best.hdf5\")"
   ]
  },
  {
   "cell_type": "code",
   "execution_count": 21,
   "metadata": {},
   "outputs": [
    {
     "data": {
      "image/png": "[encoded data removed]",
      "text/plain": [
       "<Figure size 432x288 with 1 Axes>"
      ]
     },
     "metadata": {
      "needs_background": "light"
     },
     "output_type": "display_data"
    }
   ],
   "source": [
    "#Loading the saved instanced history of the saved model\n",
    "with open(\"bird_model_history.pickle\", \"rb\") as in_file:\n",
    "    saved_model_history = pickle.load(in_file)\n",
    "\n",
    "#Define the function of the loss graphs of the saved model\n",
    "def plot_loss(model):\n",
    "    train_acc = model[\"loss\"]\n",
    "    test_acc = model[\"val_loss\"]\n",
    "    x = list(range(1, len(test_acc) + 1))\n",
    "    plt.plot(x, test_acc, color = \"red\", label = \"validation loss\")\n",
    "    plt.plot(x, train_acc, label = 'training loss')\n",
    "    plt.xlabel(\"Epoch\")\n",
    "    plt.ylabel(\"Loss\")\n",
    "    plt.title(\"Loss vs. Epoch\")\n",
    "    plt.legend()\n",
    "    \n",
    "#Plot the loss graphs\n",
    "plot_loss(saved_model_history)"
   ]
  },
  {
   "cell_type": "code",
   "execution_count": 22,
   "metadata": {},
   "outputs": [
    {
     "data": {
      "image/png": "[encoded data removed]",
      "text/plain": [
       "<Figure size 432x288 with 1 Axes>"
      ]
     },
     "metadata": {
      "needs_background": "light"
     },
     "output_type": "display_data"
    }
   ],
   "source": [
    "#Loading the saved instanced history of the saved model\n",
    "with open(\"bird_model_history.pickle\", \"rb\") as in_file:\n",
    "    saved_model_history = pickle.load(in_file)\n",
    "\n",
    "#Define the function of the loss graphs of the saved model\n",
    "def plot_accuracy(model):\n",
    "    train_acc = model[\"accuracy\"]\n",
    "    test_acc = model[\"val_accuracy\"]\n",
    "    x = list(range(1, len(test_acc) + 1))\n",
    "    plt.plot(x, test_acc, color = \"red\", label = \"validation accuracy\")\n",
    "    plt.plot(x, train_acc, label = 'training accuracy')\n",
    "    plt.xlabel(\"Epoch\")\n",
    "    plt.ylabel(\"Accuracy\")\n",
    "    plt.title(\"Accuracy vs. Epoch\")\n",
    "    plt.legend()\n",
    "    \n",
    "#Plot the loss graphs\n",
    "plot_accuracy(saved_model_history)"
   ]
  },
  {
   "cell_type": "markdown",
   "metadata": {},
   "source": [
    "##### Note:\n",
    "The validation loss improved slightly after fine-tuning the model. The lowest validation loss of 0.2794 was recorded at epoch 20, which had a validation accuracy of 0.9310. Model training was terminated at epoch 23 by the callback ModelCheckpoint as there was no further reduction in the validation loss."
   ]
  },
  {
   "cell_type": "raw",
   "metadata": {},
   "source": []
  },
  {
   "cell_type": "markdown",
   "metadata": {},
   "source": [
    "### Validation of accuracy\n",
    "The trained model will be tested using the test set and evaluated using the performance metric Recall. Recall is used since the objective is to determine out of all the images of a particular label, how many were correctly identified as that label. \n",
    "\n",
    "<img src = \"images for notebooks/Recall.png\">"
   ]
  },
  {
   "cell_type": "code",
   "execution_count": 23,
   "metadata": {},
   "outputs": [],
   "source": [
    "#Evaluate the test images using the saved model\n",
    "pred = saved_model.predict(test_gen)"
   ]
  },
  {
   "cell_type": "code",
   "execution_count": 24,
   "metadata": {},
   "outputs": [],
   "source": [
    "from sklearn.metrics import classification_report, accuracy_score\n",
    "\n",
    "#Convert the labels from array matrix to list of predicted and actual labels\n",
    "class_names = list(test_gen.class_indices)\n",
    "\n",
    "y_pred = [class_names[i] for i in list(np.argmax(pred, axis = -1))]\n",
    "y_true = [class_names[i] for i in test_gen.classes.tolist()]"
   ]
  },
  {
   "cell_type": "code",
   "execution_count": 25,
   "metadata": {},
   "outputs": [
    {
     "name": "stdout",
     "output_type": "stream",
     "text": [
      "                              precision    recall  f1-score   support\n",
      "\n",
      "           Banded_Woodpecker       1.00      1.00      1.00         1\n",
      "   Black-crowned_Night_Heron       0.50      1.00      0.67         1\n",
      "           Black-winged_Kite       0.00      0.00      0.00         2\n",
      " Blue-crowned_Hanging_Parrot       1.00      1.00      1.00         1\n",
      "     Blue-throated_Bee-eater       1.00      1.00      1.00         2\n",
      "            Blue-winged_Pita       1.00      1.00      1.00         1\n",
      "               Brahmini_Kite       0.33      1.00      0.50         1\n",
      "              Buffy_Fish_Owl       1.00      1.00      1.00         1\n",
      "           Common_Kingfisher       1.00      1.00      1.00         2\n",
      "        Golden-backed_Weaver       1.00      1.00      1.00         1\n",
      "Greater_Racket-tailed_Drongo       1.00      1.00      1.00         1\n",
      "       Green_Imperial_Pigeon       1.00      1.00      1.00         1\n",
      "      Grey-headed_Fish_Eagle       1.00      1.00      1.00         2\n",
      "       Grey-rumped_Treeswift       1.00      1.00      1.00         2\n",
      "                Jerdons_Baza       1.00      1.00      1.00         2\n",
      "       Lesser_Whistling_Duck       1.00      1.00      1.00         2\n",
      "                 Little_Tern       1.00      1.00      1.00         1\n",
      "        Olive-backed_Sunbird       1.00      1.00      1.00         2\n",
      "      Oriental_Pied_Hornbill       1.00      1.00      1.00         1\n",
      "            Paddyfield_Pipit       1.00      1.00      1.00         1\n",
      "                Pied_Triller       0.00      0.00      0.00         1\n",
      "           Red-Crowned_Crane       1.00      0.67      0.80         3\n",
      "         Slaty-breasted_Rail       1.00      1.00      1.00         1\n",
      "     Stork-billed_Kingfisher       1.00      1.00      1.00         4\n",
      "              Striated_Heron       0.00      0.00      0.00         1\n",
      "      Sunda_Pygmy_Woodpecker       1.00      1.00      1.00         1\n",
      "            Sunda_Scoops_Owl       1.00      1.00      1.00         1\n",
      "     White-bellied_Sea_Eagle       1.00      0.50      0.67         2\n",
      "     White-breasted_Waterhen       1.00      1.00      1.00         4\n",
      "      White-tailed_Sea_Eagle       1.00      1.00      1.00         1\n",
      "           White-winged_Tern       1.00      1.00      1.00         3\n",
      "                Whooper_Swan       0.50      1.00      0.67         1\n",
      "        Yellow-vented_Bulbul       1.00      1.00      1.00         1\n",
      "              Yellow_Bittern       1.00      1.00      1.00         1\n",
      "         Zanzibar_Red_Bishop       1.00      1.00      1.00         1\n",
      "           Zitting_Cisticola       0.80      1.00      0.89         4\n",
      "\n",
      "                    accuracy                           0.90        58\n",
      "                   macro avg       0.86      0.89      0.87        58\n",
      "                weighted avg       0.89      0.90      0.88        58\n",
      "\n"
     ]
    }
   ],
   "source": [
    "#Print the classification report of the birds\n",
    "print(classification_report(y_true, y_pred, zero_division = 0))"
   ]
  },
  {
   "cell_type": "markdown",
   "metadata": {},
   "source": [
    "##### Evaluation:\n",
    "\n",
    "* The number of test images per label (support) is indicative of how large the training set is for the particular image.\n",
    "\n",
    "* Overall weighted average recall is at 0.90, which is slightly lower than the validation accuracy of 0.93. This can be attributed to the smaller number of data in the test set (58 images) as compared to the validation set (116 images), which skews the accuracy for each misclassification.\n",
    "\n",
    "* From a comparison of the predicted labels and true labels, it can be seen that the overall small dataset resulted in similar looking birds having higher rates of misclassifications. For instance, the \"black-winged kite\" birds (_JWO9527_cr.jpg and _JWO9528_cr.jpg) were misclassified as \"Brahmini Kite\" (a close species). The \"Red-Crowned_Crane\" (_JWO5310_cr.jpg) was misclassified as \"Whooper_Swan\" due to the close resemblance (bird color and background color).\n",
    "\n",
    "* It can be seen that although using data augmentation had generally resulted in a decent Recall, it cannot fully mitigate the lack of variation of data from a small dataset."
   ]
  },
  {
   "cell_type": "raw",
   "metadata": {},
   "source": []
  }
 ],
 "metadata": {
  "kernelspec": {
   "display_name": "Python 3",
   "language": "python",
   "name": "python3"
  },
  "language_info": {
   "codemirror_mode": {
    "name": "ipython",
    "version": 3
   },
   "file_extension": ".py",
   "mimetype": "text/x-python",
   "name": "python",
   "nbconvert_exporter": "python",
   "pygments_lexer": "ipython3",
   "version": "3.7.6"
  }
 },
 "nbformat": 4,
 "nbformat_minor": 4
}
